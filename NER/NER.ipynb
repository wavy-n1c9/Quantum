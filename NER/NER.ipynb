{
 "cells": [
  {
   "cell_type": "markdown",
   "id": "c833ac75",
   "metadata": {},
   "source": [
    "DATASET https://github.com/thunlp/Few-NERD\n",
    "I imported subset inter from https://cloud.tsinghua.edu.cn/f/a176a4870f0a4f8ba0db/?dl=1 (Download link)"
   ]
  },
  {
   "cell_type": "markdown",
   "id": "868a9dc2",
   "metadata": {},
   "source": [
    "I need to build NER model for mountain detection in sentences"
   ]
  },
  {
   "cell_type": "markdown",
   "id": "428936aa",
   "metadata": {},
   "source": [
    "So firstly i need to understand data, here we can see 2 columns with word and NER label"
   ]
  },
  {
   "cell_type": "markdown",
   "id": "f07815de",
   "metadata": {},
   "source": [
    "Final dataset\n",
    "https://drive.google.com/drive/folders/1giuhBNTPA5BoNy0vajkpiVLXUwP9ncvd?usp=sharing"
   ]
  },
  {
   "cell_type": "code",
   "execution_count": 1,
   "id": "2a55039d",
   "metadata": {
    "scrolled": true,
    "tags": []
   },
   "outputs": [
    {
     "name": "stdout",
     "output_type": "stream",
     "text": [
      "Data shape: (3455940, 2)\n"
     ]
    }
   ],
   "source": [
    "import pandas as pd\n",
    "import warnings\n",
    "warnings.simplefilter('ignore')\n",
    "\n",
    "\n",
    "data = pd.read_csv('inter/train.txt', sep=\"\\t\", header=None)\n",
    "data=data.rename(columns={0: \"word\", 1: \"label\",}, errors=\"raise\")\n",
    "print(\"Data shape:\",data.shape)"
   ]
  },
  {
   "cell_type": "code",
   "execution_count": 2,
   "id": "21b7b682",
   "metadata": {},
   "outputs": [
    {
     "data": {
      "text/html": [
       "<div>\n",
       "<style scoped>\n",
       "    .dataframe tbody tr th:only-of-type {\n",
       "        vertical-align: middle;\n",
       "    }\n",
       "\n",
       "    .dataframe tbody tr th {\n",
       "        vertical-align: top;\n",
       "    }\n",
       "\n",
       "    .dataframe thead th {\n",
       "        text-align: right;\n",
       "    }\n",
       "</style>\n",
       "<table border=\"1\" class=\"dataframe\">\n",
       "  <thead>\n",
       "    <tr style=\"text-align: right;\">\n",
       "      <th></th>\n",
       "      <th>word</th>\n",
       "      <th>label</th>\n",
       "    </tr>\n",
       "  </thead>\n",
       "  <tbody>\n",
       "    <tr>\n",
       "      <th>26</th>\n",
       "      <td>The</td>\n",
       "      <td>organization-education</td>\n",
       "    </tr>\n",
       "    <tr>\n",
       "      <th>27</th>\n",
       "      <td>Institute</td>\n",
       "      <td>organization-education</td>\n",
       "    </tr>\n",
       "    <tr>\n",
       "      <th>28</th>\n",
       "      <td>of</td>\n",
       "      <td>organization-education</td>\n",
       "    </tr>\n",
       "    <tr>\n",
       "      <th>29</th>\n",
       "      <td>International</td>\n",
       "      <td>organization-education</td>\n",
       "    </tr>\n",
       "    <tr>\n",
       "      <th>30</th>\n",
       "      <td>Finance</td>\n",
       "      <td>organization-education</td>\n",
       "    </tr>\n",
       "    <tr>\n",
       "      <th>31</th>\n",
       "      <td>meetings</td>\n",
       "      <td>O</td>\n",
       "    </tr>\n",
       "    <tr>\n",
       "      <th>32</th>\n",
       "      <td>are</td>\n",
       "      <td>O</td>\n",
       "    </tr>\n",
       "    <tr>\n",
       "      <th>33</th>\n",
       "      <td>being</td>\n",
       "      <td>O</td>\n",
       "    </tr>\n",
       "    <tr>\n",
       "      <th>34</th>\n",
       "      <td>held</td>\n",
       "      <td>O</td>\n",
       "    </tr>\n",
       "    <tr>\n",
       "      <th>35</th>\n",
       "      <td>at</td>\n",
       "      <td>O</td>\n",
       "    </tr>\n",
       "    <tr>\n",
       "      <th>36</th>\n",
       "      <td>Shangri-La</td>\n",
       "      <td>building-hotel</td>\n",
       "    </tr>\n",
       "    <tr>\n",
       "      <th>37</th>\n",
       "      <td>Hotel</td>\n",
       "      <td>building-hotel</td>\n",
       "    </tr>\n",
       "  </tbody>\n",
       "</table>\n",
       "</div>"
      ],
      "text/plain": [
       "             word                   label\n",
       "26            The  organization-education\n",
       "27      Institute  organization-education\n",
       "28             of  organization-education\n",
       "29  International  organization-education\n",
       "30        Finance  organization-education\n",
       "31       meetings                       O\n",
       "32            are                       O\n",
       "33          being                       O\n",
       "34           held                       O\n",
       "35             at                       O\n",
       "36     Shangri-La          building-hotel\n",
       "37          Hotel          building-hotel"
      ]
     },
     "execution_count": 2,
     "metadata": {},
     "output_type": "execute_result"
    }
   ],
   "source": [
    "data[26:38]"
   ]
  },
  {
   "cell_type": "code",
   "execution_count": 3,
   "id": "141f58d0",
   "metadata": {
    "tags": []
   },
   "outputs": [
    {
     "name": "stdout",
     "output_type": "stream",
     "text": [
      "Amount of mountain targets in dataset is only: 6600\n"
     ]
    },
    {
     "data": {
      "text/plain": [
       "O                                           2873658\n",
       "location-GPE                                 130205\n",
       "organization-other                            61718\n",
       "organization-company                          41167\n",
       "organization-education                        33839\n",
       "person-artist/author                          31553\n",
       "person-politician                             24898\n",
       "organization-sportsteam                       24445\n",
       "location-road/railway/highway/transit         20506\n",
       "other-award                                   17276\n",
       "product-other                                 16198\n",
       "event-attack/battle/war/militaryconflict      15560\n",
       "other-biologything                            13034\n",
       "organization-media/newspaper                  11969\n",
       "art-film                                      11575\n",
       "Name: label, dtype: int64"
      ]
     },
     "execution_count": 3,
     "metadata": {},
     "output_type": "execute_result"
    }
   ],
   "source": [
    "print(\"Amount of mountain targets in dataset is only:\",data.label.value_counts()[' '])\n",
    "data.label.value_counts()[:15]"
   ]
  },
  {
   "cell_type": "markdown",
   "id": "e6950bd7",
   "metadata": {},
   "source": [
    "As we can see we have 3455940 words total, with diferent labels. 2873658 is amount zero entity words. So we have only 582282 word with any labeled entity, but i need location-mountain.\n",
    "Dataset have 6600 word of location-mountain. For training model i'm going to create subset of dataset consists from sentences which contain location-mountain."
   ]
  },
  {
   "cell_type": "code",
   "execution_count": 4,
   "id": "be931e29",
   "metadata": {},
   "outputs": [
    {
     "data": {
      "text/html": [
       "<div>\n",
       "<style scoped>\n",
       "    .dataframe tbody tr th:only-of-type {\n",
       "        vertical-align: middle;\n",
       "    }\n",
       "\n",
       "    .dataframe tbody tr th {\n",
       "        vertical-align: top;\n",
       "    }\n",
       "\n",
       "    .dataframe thead th {\n",
       "        text-align: right;\n",
       "    }\n",
       "</style>\n",
       "<table border=\"1\" class=\"dataframe\">\n",
       "  <thead>\n",
       "    <tr style=\"text-align: right;\">\n",
       "      <th></th>\n",
       "      <th>word</th>\n",
       "      <th>label</th>\n",
       "    </tr>\n",
       "  </thead>\n",
       "  <tbody>\n",
       "    <tr>\n",
       "      <th>3473</th>\n",
       "      <td>Grand</td>\n",
       "      <td>location-mountain</td>\n",
       "    </tr>\n",
       "    <tr>\n",
       "      <th>3474</th>\n",
       "      <td>Canyon</td>\n",
       "      <td>location-mountain</td>\n",
       "    </tr>\n",
       "    <tr>\n",
       "      <th>8855</th>\n",
       "      <td>Hetch</td>\n",
       "      <td>location-mountain</td>\n",
       "    </tr>\n",
       "    <tr>\n",
       "      <th>8856</th>\n",
       "      <td>Hetchy</td>\n",
       "      <td>location-mountain</td>\n",
       "    </tr>\n",
       "    <tr>\n",
       "      <th>8857</th>\n",
       "      <td>Valley</td>\n",
       "      <td>location-mountain</td>\n",
       "    </tr>\n",
       "    <tr>\n",
       "      <th>...</th>\n",
       "      <td>...</td>\n",
       "      <td>...</td>\n",
       "    </tr>\n",
       "    <tr>\n",
       "      <th>3453077</th>\n",
       "      <td>Mount</td>\n",
       "      <td>location-mountain</td>\n",
       "    </tr>\n",
       "    <tr>\n",
       "      <th>3453078</th>\n",
       "      <td>St</td>\n",
       "      <td>location-mountain</td>\n",
       "    </tr>\n",
       "    <tr>\n",
       "      <th>3453079</th>\n",
       "      <td>Benedict</td>\n",
       "      <td>location-mountain</td>\n",
       "    </tr>\n",
       "    <tr>\n",
       "      <th>3455376</th>\n",
       "      <td>Beverly</td>\n",
       "      <td>location-mountain</td>\n",
       "    </tr>\n",
       "    <tr>\n",
       "      <th>3455377</th>\n",
       "      <td>Hills</td>\n",
       "      <td>location-mountain</td>\n",
       "    </tr>\n",
       "  </tbody>\n",
       "</table>\n",
       "<p>6600 rows × 2 columns</p>\n",
       "</div>"
      ],
      "text/plain": [
       "             word              label\n",
       "3473        Grand  location-mountain\n",
       "3474       Canyon  location-mountain\n",
       "8855        Hetch  location-mountain\n",
       "8856       Hetchy  location-mountain\n",
       "8857       Valley  location-mountain\n",
       "...           ...                ...\n",
       "3453077     Mount  location-mountain\n",
       "3453078        St  location-mountain\n",
       "3453079  Benedict  location-mountain\n",
       "3455376   Beverly  location-mountain\n",
       "3455377     Hills  location-mountain\n",
       "\n",
       "[6600 rows x 2 columns]"
      ]
     },
     "execution_count": 4,
     "metadata": {},
     "output_type": "execute_result"
    }
   ],
   "source": [
    "# Just to show what mountains do we have\n",
    "data[data['label']=='location-mountain']"
   ]
  },
  {
   "cell_type": "markdown",
   "id": "67907a2b",
   "metadata": {},
   "source": [
    "I made Sentence columns to create subset of sentences which have location-mountain in it."
   ]
  },
  {
   "cell_type": "code",
   "execution_count": 5,
   "id": "05a93795",
   "metadata": {},
   "outputs": [],
   "source": [
    "data['Sentence'] = (data['word'] == '.').cumsum()"
   ]
  },
  {
   "cell_type": "code",
   "execution_count": 6,
   "id": "7f93e5b1",
   "metadata": {
    "tags": []
   },
   "outputs": [
    {
     "data": {
      "text/html": [
       "<div>\n",
       "<style scoped>\n",
       "    .dataframe tbody tr th:only-of-type {\n",
       "        vertical-align: middle;\n",
       "    }\n",
       "\n",
       "    .dataframe tbody tr th {\n",
       "        vertical-align: top;\n",
       "    }\n",
       "\n",
       "    .dataframe thead th {\n",
       "        text-align: right;\n",
       "    }\n",
       "</style>\n",
       "<table border=\"1\" class=\"dataframe\">\n",
       "  <thead>\n",
       "    <tr style=\"text-align: right;\">\n",
       "      <th></th>\n",
       "      <th>word</th>\n",
       "      <th>label</th>\n",
       "      <th>Sentence</th>\n",
       "    </tr>\n",
       "  </thead>\n",
       "  <tbody>\n",
       "    <tr>\n",
       "      <th>3465</th>\n",
       "      <td>.</td>\n",
       "      <td>O</td>\n",
       "      <td>128</td>\n",
       "    </tr>\n",
       "    <tr>\n",
       "      <th>3466</th>\n",
       "      <td>After</td>\n",
       "      <td>O</td>\n",
       "      <td>128</td>\n",
       "    </tr>\n",
       "    <tr>\n",
       "      <th>3467</th>\n",
       "      <td>joining</td>\n",
       "      <td>O</td>\n",
       "      <td>128</td>\n",
       "    </tr>\n",
       "    <tr>\n",
       "      <th>3468</th>\n",
       "      <td>a</td>\n",
       "      <td>O</td>\n",
       "      <td>128</td>\n",
       "    </tr>\n",
       "    <tr>\n",
       "      <th>3469</th>\n",
       "      <td>rafting</td>\n",
       "      <td>O</td>\n",
       "      <td>128</td>\n",
       "    </tr>\n",
       "    <tr>\n",
       "      <th>3470</th>\n",
       "      <td>trip</td>\n",
       "      <td>O</td>\n",
       "      <td>128</td>\n",
       "    </tr>\n",
       "    <tr>\n",
       "      <th>3471</th>\n",
       "      <td>in</td>\n",
       "      <td>O</td>\n",
       "      <td>128</td>\n",
       "    </tr>\n",
       "    <tr>\n",
       "      <th>3472</th>\n",
       "      <td>the</td>\n",
       "      <td>O</td>\n",
       "      <td>128</td>\n",
       "    </tr>\n",
       "    <tr>\n",
       "      <th>3473</th>\n",
       "      <td>Grand</td>\n",
       "      <td>location-mountain</td>\n",
       "      <td>128</td>\n",
       "    </tr>\n",
       "    <tr>\n",
       "      <th>3474</th>\n",
       "      <td>Canyon</td>\n",
       "      <td>location-mountain</td>\n",
       "      <td>128</td>\n",
       "    </tr>\n",
       "    <tr>\n",
       "      <th>3475</th>\n",
       "      <td>in</td>\n",
       "      <td>O</td>\n",
       "      <td>128</td>\n",
       "    </tr>\n",
       "    <tr>\n",
       "      <th>3476</th>\n",
       "      <td>1953</td>\n",
       "      <td>O</td>\n",
       "      <td>128</td>\n",
       "    </tr>\n",
       "    <tr>\n",
       "      <th>3477</th>\n",
       "      <td>,</td>\n",
       "      <td>O</td>\n",
       "      <td>128</td>\n",
       "    </tr>\n",
       "    <tr>\n",
       "      <th>3478</th>\n",
       "      <td>she</td>\n",
       "      <td>O</td>\n",
       "      <td>128</td>\n",
       "    </tr>\n",
       "    <tr>\n",
       "      <th>3479</th>\n",
       "      <td>became</td>\n",
       "      <td>O</td>\n",
       "      <td>128</td>\n",
       "    </tr>\n",
       "  </tbody>\n",
       "</table>\n",
       "</div>"
      ],
      "text/plain": [
       "         word              label  Sentence\n",
       "3465        .                  O       128\n",
       "3466    After                  O       128\n",
       "3467  joining                  O       128\n",
       "3468        a                  O       128\n",
       "3469  rafting                  O       128\n",
       "3470     trip                  O       128\n",
       "3471       in                  O       128\n",
       "3472      the                  O       128\n",
       "3473    Grand  location-mountain       128\n",
       "3474   Canyon  location-mountain       128\n",
       "3475       in                  O       128\n",
       "3476     1953                  O       128\n",
       "3477        ,                  O       128\n",
       "3478      she                  O       128\n",
       "3479   became                  O       128"
      ]
     },
     "execution_count": 6,
     "metadata": {},
     "output_type": "execute_result"
    }
   ],
   "source": [
    "mountain_sentences=data[data['label']=='location-mountain'].Sentence.unique()\n",
    "data=data[data['Sentence'].isin(mountain_sentences)]\n",
    "data[:15]"
   ]
  },
  {
   "cell_type": "code",
   "execution_count": 7,
   "id": "20544499",
   "metadata": {},
   "outputs": [
    {
     "data": {
      "text/html": [
       "<div>\n",
       "<style scoped>\n",
       "    .dataframe tbody tr th:only-of-type {\n",
       "        vertical-align: middle;\n",
       "    }\n",
       "\n",
       "    .dataframe tbody tr th {\n",
       "        vertical-align: top;\n",
       "    }\n",
       "\n",
       "    .dataframe thead th {\n",
       "        text-align: right;\n",
       "    }\n",
       "</style>\n",
       "<table border=\"1\" class=\"dataframe\">\n",
       "  <thead>\n",
       "    <tr style=\"text-align: right;\">\n",
       "      <th></th>\n",
       "      <th>word</th>\n",
       "      <th>label</th>\n",
       "      <th>Sentence</th>\n",
       "    </tr>\n",
       "  </thead>\n",
       "  <tbody>\n",
       "    <tr>\n",
       "      <th>0</th>\n",
       "      <td>.</td>\n",
       "      <td>O</td>\n",
       "      <td>1</td>\n",
       "    </tr>\n",
       "    <tr>\n",
       "      <th>1</th>\n",
       "      <td>After</td>\n",
       "      <td>O</td>\n",
       "      <td>1</td>\n",
       "    </tr>\n",
       "    <tr>\n",
       "      <th>2</th>\n",
       "      <td>joining</td>\n",
       "      <td>O</td>\n",
       "      <td>1</td>\n",
       "    </tr>\n",
       "    <tr>\n",
       "      <th>3</th>\n",
       "      <td>a</td>\n",
       "      <td>O</td>\n",
       "      <td>1</td>\n",
       "    </tr>\n",
       "    <tr>\n",
       "      <th>4</th>\n",
       "      <td>rafting</td>\n",
       "      <td>O</td>\n",
       "      <td>1</td>\n",
       "    </tr>\n",
       "    <tr>\n",
       "      <th>5</th>\n",
       "      <td>trip</td>\n",
       "      <td>O</td>\n",
       "      <td>1</td>\n",
       "    </tr>\n",
       "    <tr>\n",
       "      <th>6</th>\n",
       "      <td>in</td>\n",
       "      <td>O</td>\n",
       "      <td>1</td>\n",
       "    </tr>\n",
       "    <tr>\n",
       "      <th>7</th>\n",
       "      <td>the</td>\n",
       "      <td>O</td>\n",
       "      <td>1</td>\n",
       "    </tr>\n",
       "    <tr>\n",
       "      <th>8</th>\n",
       "      <td>Grand</td>\n",
       "      <td>location-mountain</td>\n",
       "      <td>1</td>\n",
       "    </tr>\n",
       "    <tr>\n",
       "      <th>9</th>\n",
       "      <td>Canyon</td>\n",
       "      <td>location-mountain</td>\n",
       "      <td>1</td>\n",
       "    </tr>\n",
       "    <tr>\n",
       "      <th>10</th>\n",
       "      <td>in</td>\n",
       "      <td>O</td>\n",
       "      <td>1</td>\n",
       "    </tr>\n",
       "    <tr>\n",
       "      <th>11</th>\n",
       "      <td>1953</td>\n",
       "      <td>O</td>\n",
       "      <td>1</td>\n",
       "    </tr>\n",
       "    <tr>\n",
       "      <th>12</th>\n",
       "      <td>,</td>\n",
       "      <td>O</td>\n",
       "      <td>1</td>\n",
       "    </tr>\n",
       "    <tr>\n",
       "      <th>13</th>\n",
       "      <td>she</td>\n",
       "      <td>O</td>\n",
       "      <td>1</td>\n",
       "    </tr>\n",
       "    <tr>\n",
       "      <th>14</th>\n",
       "      <td>became</td>\n",
       "      <td>O</td>\n",
       "      <td>1</td>\n",
       "    </tr>\n",
       "    <tr>\n",
       "      <th>15</th>\n",
       "      <td>a</td>\n",
       "      <td>O</td>\n",
       "      <td>1</td>\n",
       "    </tr>\n",
       "    <tr>\n",
       "      <th>16</th>\n",
       "      <td>regular</td>\n",
       "      <td>O</td>\n",
       "      <td>1</td>\n",
       "    </tr>\n",
       "    <tr>\n",
       "      <th>17</th>\n",
       "      <td>on</td>\n",
       "      <td>O</td>\n",
       "      <td>1</td>\n",
       "    </tr>\n",
       "    <tr>\n",
       "      <th>18</th>\n",
       "      <td>river</td>\n",
       "      <td>O</td>\n",
       "      <td>1</td>\n",
       "    </tr>\n",
       "    <tr>\n",
       "      <th>19</th>\n",
       "      <td>trips</td>\n",
       "      <td>O</td>\n",
       "      <td>1</td>\n",
       "    </tr>\n",
       "  </tbody>\n",
       "</table>\n",
       "</div>"
      ],
      "text/plain": [
       "       word              label  Sentence\n",
       "0         .                  O         1\n",
       "1     After                  O         1\n",
       "2   joining                  O         1\n",
       "3         a                  O         1\n",
       "4   rafting                  O         1\n",
       "5      trip                  O         1\n",
       "6        in                  O         1\n",
       "7       the                  O         1\n",
       "8     Grand  location-mountain         1\n",
       "9    Canyon  location-mountain         1\n",
       "10       in                  O         1\n",
       "11     1953                  O         1\n",
       "12        ,                  O         1\n",
       "13      she                  O         1\n",
       "14   became                  O         1\n",
       "15        a                  O         1\n",
       "16  regular                  O         1\n",
       "17       on                  O         1\n",
       "18    river                  O         1\n",
       "19    trips                  O         1"
      ]
     },
     "execution_count": 7,
     "metadata": {},
     "output_type": "execute_result"
    }
   ],
   "source": [
    "# Here I reset Sentence index and set all other entities to O, because I only need to detect location-mountain.\n",
    "data['Sentence'] = (data['word'] == '.').cumsum()\n",
    "data['label'] = data['label'].apply(lambda x: 'O' if x != 'location-mountain' else x)\n",
    "data.reset_index(drop=True, inplace=True)\n",
    "\n",
    "data.head(20)"
   ]
  },
  {
   "cell_type": "code",
   "execution_count": 8,
   "id": "e91ca218",
   "metadata": {
    "tags": []
   },
   "outputs": [
    {
     "name": "stdout",
     "output_type": "stream",
     "text": [
      "So we have 2167 sentences, and 62881 tokens.\n",
      "\n",
      "And here is the split after preproccesing:\n",
      "O                    56281\n",
      "location-mountain     6600\n",
      "Name: label, dtype: int64\n"
     ]
    }
   ],
   "source": [
    "print(f\"So we have {data.Sentence.max()} sentences, and {data.shape[0]} tokens.\")\n",
    "\n",
    "print('\\nAnd here is the split after preproccesing:')\n",
    "print(data.label.value_counts())"
   ]
  },
  {
   "cell_type": "markdown",
   "id": "89667f78",
   "metadata": {},
   "source": [
    "Test and train split before fine-tuning"
   ]
  },
  {
   "cell_type": "code",
   "execution_count": 9,
   "id": "e97e3717",
   "metadata": {
    "tags": []
   },
   "outputs": [],
   "source": [
    "from simpletransformers.ner import NERModel,NERArgs\n",
    "from sklearn.metrics import f1_score\n",
    "\n",
    "\n",
    "\n",
    "label = data[\"label\"].unique().tolist()\n",
    "label\n",
    "\n",
    "# Train .8 and test .2\n",
    "# int(62881*0.8)=50304\n",
    "# But I dont want to break Sentence I'm going to use 50302\n",
    "\n",
    "data.rename(columns={\"word\": \"words\", \"label\": \"labels\", \"Sentence\": \"sentence_id\"}, inplace=True)\n",
    "train=data[:50302]\n",
    "test=data[50302:]"
   ]
  },
  {
   "cell_type": "code",
   "execution_count": 10,
   "id": "6cc61ebc",
   "metadata": {},
   "outputs": [
    {
     "name": "stderr",
     "output_type": "stream",
     "text": [
      "Some weights of BertForTokenClassification were not initialized from the model checkpoint at bert-base-cased and are newly initialized: ['classifier.weight', 'classifier.bias']\n",
      "You should probably TRAIN this model on a down-stream task to be able to use it for predictions and inference.\n"
     ]
    },
    {
     "data": {
      "application/vnd.jupyter.widget-view+json": {
       "model_id": "bc8664a898be4d099263afda0fc9e373",
       "version_major": 2,
       "version_minor": 0
      },
      "text/plain": [
       "  0%|          | 0/4 [00:00<?, ?it/s]"
      ]
     },
     "metadata": {},
     "output_type": "display_data"
    },
    {
     "data": {
      "application/vnd.jupyter.widget-view+json": {
       "model_id": "1d0db03d0b1845d9ab6cf6a0af4c7c6d",
       "version_major": 2,
       "version_minor": 0
      },
      "text/plain": [
       "Epoch:   0%|          | 0/3 [00:00<?, ?it/s]"
      ]
     },
     "metadata": {},
     "output_type": "display_data"
    },
    {
     "data": {
      "application/vnd.jupyter.widget-view+json": {
       "model_id": "10e1a330483a4ece96818ed18ad4f952",
       "version_major": 2,
       "version_minor": 0
      },
      "text/plain": [
       "Running Epoch 0 of 3:   0%|          | 0/55 [00:00<?, ?it/s]"
      ]
     },
     "metadata": {},
     "output_type": "display_data"
    },
    {
     "data": {
      "application/vnd.jupyter.widget-view+json": {
       "model_id": "a37974f401e445bbb0f10d5bd06b8646",
       "version_major": 2,
       "version_minor": 0
      },
      "text/plain": [
       "Running Epoch 1 of 3:   0%|          | 0/55 [00:00<?, ?it/s]"
      ]
     },
     "metadata": {},
     "output_type": "display_data"
    },
    {
     "data": {
      "application/vnd.jupyter.widget-view+json": {
       "model_id": "7cf2b0caf95d4a8a8eb69a055a4bd28b",
       "version_major": 2,
       "version_minor": 0
      },
      "text/plain": [
       "Running Epoch 2 of 3:   0%|          | 0/55 [00:00<?, ?it/s]"
      ]
     },
     "metadata": {},
     "output_type": "display_data"
    },
    {
     "data": {
      "text/plain": [
       "(165, 0.08828501872097452)"
      ]
     },
     "execution_count": 10,
     "metadata": {},
     "output_type": "execute_result"
    }
   ],
   "source": [
    "args = NERArgs()\n",
    "args.num_train_epochs = 3\n",
    "args.learning_rate = 1e-4\n",
    "args.overwrite_output_dir = True\n",
    "args.train_batch_size = 32\n",
    "args.eval_batch_size = 32\n",
    "\n",
    "\n",
    "model = NERModel('bert', 'bert-base-cased',labels=label,args =args,use_cuda=False)\n",
    "\n",
    "model.train_model(train,eval_data = test,acc=f1_score)"
   ]
  },
  {
   "cell_type": "markdown",
   "id": "56312354",
   "metadata": {},
   "source": [
    "Model performance"
   ]
  },
  {
   "cell_type": "code",
   "execution_count": 11,
   "id": "b80902f7",
   "metadata": {},
   "outputs": [
    {
     "data": {
      "application/vnd.jupyter.widget-view+json": {
       "model_id": "acd0dad104a44498953398002c6734b3",
       "version_major": 2,
       "version_minor": 0
      },
      "text/plain": [
       "  0%|          | 0/1 [00:00<?, ?it/s]"
      ]
     },
     "metadata": {},
     "output_type": "display_data"
    },
    {
     "data": {
      "application/vnd.jupyter.widget-view+json": {
       "model_id": "7e5cc57a62eb476ea024cfcac5e1e79d",
       "version_major": 2,
       "version_minor": 0
      },
      "text/plain": [
       "Running Evaluation:   0%|          | 0/14 [00:00<?, ?it/s]"
      ]
     },
     "metadata": {},
     "output_type": "display_data"
    },
    {
     "data": {
      "text/plain": [
       "{'eval_loss': 0.08183732362730163,\n",
       " 'precision': 0.819060773480663,\n",
       " 'recall': 0.819060773480663,\n",
       " 'f1_score': 0.819060773480663}"
      ]
     },
     "execution_count": 11,
     "metadata": {},
     "output_type": "execute_result"
    }
   ],
   "source": [
    "result, model_outputs, preds_list = model.eval_model(test)\n",
    "\n",
    "result"
   ]
  },
  {
   "cell_type": "markdown",
   "id": "cfc411f6",
   "metadata": {},
   "source": [
    "To evaluate model I also ask to ChatGPT to create sentences with some mountains"
   ]
  },
  {
   "cell_type": "code",
   "execution_count": 12,
   "id": "cfa06b37",
   "metadata": {},
   "outputs": [],
   "source": [
    "val_data_byGPT=[\"Mount Everest, standing at 29,032 feet, is the highest peak in the world, located in the Himalayas.\",\n",
    "                \"The Rocky Mountains, spanning North America from British Columbia to New Mexico, are known for their breathtaking scenery and diverse wildlife.\",\n",
    "                \"Switzerland is renowned for its stunning Alps, with iconic peaks like the Matterhorn attracting climbers and tourists alike.\", \n",
    "                \"The Andes, the longest mountain range in the world, traverse seven South American countries, offering a rich tapestry of landscapes and cultures.\", \n",
    "                \"Japan's Mount Fuji, an active stratovolcano, is an iconic symbol and the highest peak in the country.\",\n",
    "                \"The Appalachian Mountains, stretching from Georgia to Maine, are known for their lush forests and historic significance in the United States.\",\n",
    "                \"K2, the second-highest mountain on Earth, is part of the Karakoram Range and is considered one of the most challenging peaks to climb.\", \n",
    "                \"The Cascade Range in the Pacific Northwest is home to notable volcanoes like Mount Rainier and Mount St. Helens.\", \n",
    "                \"The Atlas Mountains in North Africa extend across Morocco, Algeria, and Tunisia, providing a rugged and scenic landscape.\" , \n",
    "                \"The Australian Alps, located in the southeastern part of the continent, offer unique alpine environments and are a haven for outdoor enthusiasts.\"]"
   ]
  },
  {
   "cell_type": "code",
   "execution_count": 13,
   "id": "25609e66",
   "metadata": {
    "scrolled": false
   },
   "outputs": [
    {
     "data": {
      "application/vnd.jupyter.widget-view+json": {
       "model_id": "acd888ca2d094254ae20f5a5b4699fb0",
       "version_major": 2,
       "version_minor": 0
      },
      "text/plain": [
       "  0%|          | 0/1 [00:00<?, ?it/s]"
      ]
     },
     "metadata": {},
     "output_type": "display_data"
    },
    {
     "data": {
      "application/vnd.jupyter.widget-view+json": {
       "model_id": "dc646d58177d4269a87a8f38716f142f",
       "version_major": 2,
       "version_minor": 0
      },
      "text/plain": [
       "Running Prediction:   0%|          | 0/1 [00:00<?, ?it/s]"
      ]
     },
     "metadata": {},
     "output_type": "display_data"
    },
    {
     "name": "stdout",
     "output_type": "stream",
     "text": [
      "Mount Everest, standing at 29,032 feet, is the highest peak in the world, located in the Himalayas.\n",
      "[{'Mount': 'location-mountain'}, {'Everest,': 'location-mountain'}, {'standing': 'O'}, {'at': 'O'}, {'29,032': 'O'}, {'feet,': 'O'}, {'is': 'O'}, {'the': 'O'}, {'highest': 'O'}, {'peak': 'O'}, {'in': 'O'}, {'the': 'O'}, {'world,': 'O'}, {'located': 'O'}, {'in': 'O'}, {'the': 'O'}, {'Himalayas.': 'location-mountain'}]\n",
      "\n",
      "\n",
      "The Rocky Mountains, spanning North America from British Columbia to New Mexico, are known for their breathtaking scenery and diverse wildlife.\n",
      "[{'The': 'O'}, {'Rocky': 'location-mountain'}, {'Mountains,': 'location-mountain'}, {'spanning': 'O'}, {'North': 'O'}, {'America': 'O'}, {'from': 'O'}, {'British': 'O'}, {'Columbia': 'O'}, {'to': 'O'}, {'New': 'O'}, {'Mexico,': 'O'}, {'are': 'O'}, {'known': 'O'}, {'for': 'O'}, {'their': 'O'}, {'breathtaking': 'O'}, {'scenery': 'O'}, {'and': 'O'}, {'diverse': 'O'}, {'wildlife.': 'O'}]\n",
      "\n",
      "\n",
      "Switzerland is renowned for its stunning Alps, with iconic peaks like the Matterhorn attracting climbers and tourists alike.\n",
      "[{'Switzerland': 'O'}, {'is': 'O'}, {'renowned': 'O'}, {'for': 'O'}, {'its': 'O'}, {'stunning': 'O'}, {'Alps,': 'location-mountain'}, {'with': 'O'}, {'iconic': 'O'}, {'peaks': 'O'}, {'like': 'O'}, {'the': 'O'}, {'Matterhorn': 'location-mountain'}, {'attracting': 'O'}, {'climbers': 'O'}, {'and': 'O'}, {'tourists': 'O'}, {'alike.': 'O'}]\n",
      "\n",
      "\n",
      "The Andes, the longest mountain range in the world, traverse seven South American countries, offering a rich tapestry of landscapes and cultures.\n",
      "[{'The': 'O'}, {'Andes,': 'location-mountain'}, {'the': 'O'}, {'longest': 'O'}, {'mountain': 'O'}, {'range': 'O'}, {'in': 'O'}, {'the': 'O'}, {'world,': 'O'}, {'traverse': 'O'}, {'seven': 'O'}, {'South': 'O'}, {'American': 'O'}, {'countries,': 'O'}, {'offering': 'O'}, {'a': 'O'}, {'rich': 'O'}, {'tapestry': 'O'}, {'of': 'O'}, {'landscapes': 'O'}, {'and': 'O'}, {'cultures.': 'O'}]\n",
      "\n",
      "\n",
      "Japan's Mount Fuji, an active stratovolcano, is an iconic symbol and the highest peak in the country.\n",
      "[{\"Japan's\": 'location-mountain'}, {'Mount': 'location-mountain'}, {'Fuji,': 'location-mountain'}, {'an': 'O'}, {'active': 'O'}, {'stratovolcano,': 'O'}, {'is': 'O'}, {'an': 'O'}, {'iconic': 'O'}, {'symbol': 'O'}, {'and': 'O'}, {'the': 'O'}, {'highest': 'O'}, {'peak': 'O'}, {'in': 'O'}, {'the': 'O'}, {'country.': 'O'}]\n",
      "\n",
      "\n",
      "The Appalachian Mountains, stretching from Georgia to Maine, are known for their lush forests and historic significance in the United States.\n",
      "[{'The': 'O'}, {'Appalachian': 'location-mountain'}, {'Mountains,': 'location-mountain'}, {'stretching': 'O'}, {'from': 'O'}, {'Georgia': 'O'}, {'to': 'O'}, {'Maine,': 'O'}, {'are': 'O'}, {'known': 'O'}, {'for': 'O'}, {'their': 'O'}, {'lush': 'O'}, {'forests': 'O'}, {'and': 'O'}, {'historic': 'O'}, {'significance': 'O'}, {'in': 'O'}, {'the': 'O'}, {'United': 'O'}, {'States.': 'O'}]\n",
      "\n",
      "\n",
      "K2, the second-highest mountain on Earth, is part of the Karakoram Range and is considered one of the most challenging peaks to climb.\n",
      "[{'K2,': 'location-mountain'}, {'the': 'O'}, {'second-highest': 'O'}, {'mountain': 'O'}, {'on': 'O'}, {'Earth,': 'O'}, {'is': 'O'}, {'part': 'O'}, {'of': 'O'}, {'the': 'O'}, {'Karakoram': 'location-mountain'}, {'Range': 'location-mountain'}, {'and': 'O'}, {'is': 'O'}, {'considered': 'O'}, {'one': 'O'}, {'of': 'O'}, {'the': 'O'}, {'most': 'O'}, {'challenging': 'O'}, {'peaks': 'O'}, {'to': 'O'}, {'climb.': 'O'}]\n",
      "\n",
      "\n",
      "The Cascade Range in the Pacific Northwest is home to notable volcanoes like Mount Rainier and Mount St. Helens.\n",
      "[{'The': 'O'}, {'Cascade': 'location-mountain'}, {'Range': 'location-mountain'}, {'in': 'O'}, {'the': 'O'}, {'Pacific': 'O'}, {'Northwest': 'O'}, {'is': 'O'}, {'home': 'O'}, {'to': 'O'}, {'notable': 'O'}, {'volcanoes': 'O'}, {'like': 'O'}, {'Mount': 'location-mountain'}, {'Rainier': 'location-mountain'}, {'and': 'O'}, {'Mount': 'location-mountain'}, {'St.': 'location-mountain'}, {'Helens.': 'location-mountain'}]\n",
      "\n",
      "\n",
      "The Atlas Mountains in North Africa extend across Morocco, Algeria, and Tunisia, providing a rugged and scenic landscape.\n",
      "[{'The': 'O'}, {'Atlas': 'location-mountain'}, {'Mountains': 'location-mountain'}, {'in': 'O'}, {'North': 'O'}, {'Africa': 'O'}, {'extend': 'O'}, {'across': 'O'}, {'Morocco,': 'O'}, {'Algeria,': 'O'}, {'and': 'O'}, {'Tunisia,': 'O'}, {'providing': 'O'}, {'a': 'O'}, {'rugged': 'O'}, {'and': 'O'}, {'scenic': 'O'}, {'landscape.': 'O'}]\n",
      "\n",
      "\n",
      "The Australian Alps, located in the southeastern part of the continent, offer unique alpine environments and are a haven for outdoor enthusiasts.\n",
      "[{'The': 'O'}, {'Australian': 'location-mountain'}, {'Alps,': 'location-mountain'}, {'located': 'O'}, {'in': 'O'}, {'the': 'O'}, {'southeastern': 'O'}, {'part': 'O'}, {'of': 'O'}, {'the': 'O'}, {'continent,': 'O'}, {'offer': 'O'}, {'unique': 'O'}, {'alpine': 'O'}, {'environments': 'O'}, {'and': 'O'}, {'are': 'O'}, {'a': 'O'}, {'haven': 'O'}, {'for': 'O'}, {'outdoor': 'O'}, {'enthusiasts.': 'O'}]\n",
      "\n",
      "\n"
     ]
    }
   ],
   "source": [
    "prediction, model_output = model.predict(val_data_byGPT)\n",
    "# Here is the result of predictions\n",
    "for i in range(len(val_data_byGPT)):\n",
    "    print(val_data_byGPT[i])\n",
    "    print(prediction[i])\n",
    "    print(\"\\n\")"
   ]
  },
  {
   "cell_type": "code",
   "execution_count": 17,
   "id": "e5f40f00",
   "metadata": {},
   "outputs": [],
   "source": [
    "!pip freeze > requirements.txt"
   ]
  }
 ],
 "metadata": {
  "kernelspec": {
   "display_name": "Python 3 (ipykernel)",
   "language": "python",
   "name": "python3"
  },
  "language_info": {
   "codemirror_mode": {
    "name": "ipython",
    "version": 3
   },
   "file_extension": ".py",
   "mimetype": "text/x-python",
   "name": "python",
   "nbconvert_exporter": "python",
   "pygments_lexer": "ipython3",
   "version": "3.9.13"
  }
 },
 "nbformat": 4,
 "nbformat_minor": 5
}
